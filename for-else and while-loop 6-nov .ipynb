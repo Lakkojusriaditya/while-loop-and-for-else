{
 "cells": [
  {
   "cell_type": "markdown",
   "id": "39488063",
   "metadata": {},
   "source": [
    "# for-else and while-else\n",
    "for-else"
   ]
  },
  {
   "cell_type": "code",
   "execution_count": 1,
   "id": "75dc6b61",
   "metadata": {},
   "outputs": [
    {
     "name": "stdout",
     "output_type": "stream",
     "text": [
      "0\n",
      "1\n",
      "2\n",
      "3\n",
      "4\n",
      "5\n",
      "6\n"
     ]
    }
   ],
   "source": [
    "for ele in range(10):\n",
    "    if ele ==7:                                # IF condition\n",
    "        break\n",
    "    print(ele)\n",
    "else:\n",
    "    print('elecution completed')"
   ]
  },
  {
   "cell_type": "markdown",
   "id": "3878eb24",
   "metadata": {},
   "source": [
    "# while-else"
   ]
  },
  {
   "cell_type": "markdown",
   "id": "9355976d",
   "metadata": {},
   "source": [
    "while else statement is a combination of a while loop with an else block. The while loop executes a block of code as long as its given condition remains true. Once the condition becomes false, the loop stops, and the else block is executed."
   ]
  },
  {
   "cell_type": "code",
   "execution_count": 3,
   "id": "d3e59d9e",
   "metadata": {
    "scrolled": true
   },
   "outputs": [
    {
     "name": "stdout",
     "output_type": "stream",
     "text": [
      "0\n",
      "1\n",
      "2\n",
      "3\n",
      "4\n",
      "5\n",
      "6\n",
      "7\n",
      "8\n",
      "9\n",
      "zz\n"
     ]
    }
   ],
   "source": [
    "n = 0\n",
    "while n in range(10):\n",
    "    print(n)\n",
    "    n+=1\n",
    "else:\n",
    "        print('zz')"
   ]
  },
  {
   "cell_type": "code",
   "execution_count": 4,
   "id": "7c0c1301",
   "metadata": {},
   "outputs": [
    {
     "name": "stdout",
     "output_type": "stream",
     "text": [
      "enter num a: 2\n",
      "enter num b: 46\n",
      "2, 3, 5, 7, 11, 13, 17, 19, 23, 29, 31, 37, 41, 43, "
     ]
    }
   ],
   "source": [
    "a, b = int(input('enter num a: ')), int(input('enter num b: '))\n",
    "s, e = min(a,b), max(a,b)\n",
    "e=e+1\n",
    "\n",
    "for num in range(s, e):\n",
    "    for div in range(2, int(num/2)+1):\n",
    "        if num%div == 0:\n",
    "            break\n",
    "            \n",
    "    else:\n",
    "        print(num, end = ', ')"
   ]
  },
  {
   "cell_type": "code",
   "execution_count": 5,
   "id": "2fd006f8",
   "metadata": {},
   "outputs": [
    {
     "name": "stdout",
     "output_type": "stream",
     "text": [
      "65433\n",
      "23650\n"
     ]
    }
   ],
   "source": [
    "x, y = 65433, 23650\n",
    "print(x)\n",
    "print(y)"
   ]
  },
  {
   "cell_type": "code",
   "execution_count": 6,
   "id": "703d66ff",
   "metadata": {},
   "outputs": [
    {
     "data": {
      "text/plain": [
       "65433"
      ]
     },
     "execution_count": 6,
     "metadata": {},
     "output_type": "execute_result"
    }
   ],
   "source": [
    "max(65433, 23650)"
   ]
  },
  {
   "cell_type": "code",
   "execution_count": 7,
   "id": "9e1a296c",
   "metadata": {},
   "outputs": [
    {
     "name": "stdout",
     "output_type": "stream",
     "text": [
      "enter a number: 5\n",
      "value entered is in there in the container\n"
     ]
    }
   ],
   "source": [
    "x = [1,2,3, 'a', 4,5]\n",
    "y = float(input('enter a number: '))\n",
    "\n",
    "for ele in x:\n",
    "    if ele == y:\n",
    "        print('value entered is in there in the container')\n",
    "        break\n",
    "else:\n",
    "    print('value not found')"
   ]
  },
  {
   "cell_type": "code",
   "execution_count": 8,
   "id": "f8a91523",
   "metadata": {},
   "outputs": [
    {
     "name": "stdout",
     "output_type": "stream",
     "text": [
      "0 a\n",
      "1 d\n",
      "2 i\n",
      "3 t\n",
      "4 y\n",
      "5 a\n"
     ]
    }
   ],
   "source": [
    "# enumerate\n",
    "x = 'aditya'\n",
    "\n",
    "for ind, val in enumerate(x):\n",
    "    print(ind, val)"
   ]
  },
  {
   "cell_type": "markdown",
   "id": "55d9f2e4",
   "metadata": {},
   "source": [
    "# List Comprehension"
   ]
  },
  {
   "cell_type": "markdown",
   "id": "03b51476",
   "metadata": {},
   "source": [
    "in this method, we create a new list by manipulating the values of an existing list\n",
    "syntax: list=[expression for i in list if condition]"
   ]
  },
  {
   "cell_type": "code",
   "execution_count": 9,
   "id": "3b3c6429",
   "metadata": {},
   "outputs": [
    {
     "data": {
      "text/plain": [
       "[0, 1, 2, 3, 4, 5, 6, 7, 8, 9, 10]"
      ]
     },
     "execution_count": 9,
     "metadata": {},
     "output_type": "execute_result"
    }
   ],
   "source": [
    "a = []\n",
    "for i in range(0,11):\n",
    "    a.append(i)\n",
    "a    "
   ]
  },
  {
   "cell_type": "code",
   "execution_count": 10,
   "id": "d9f21714",
   "metadata": {},
   "outputs": [
    {
     "data": {
      "text/plain": [
       "[0, 1, 2, 3, 4, 5, 6, 7, 8, 9, 10]"
      ]
     },
     "execution_count": 10,
     "metadata": {},
     "output_type": "execute_result"
    }
   ],
   "source": [
    "x = [ele for ele in range(0, 11)]\n",
    "x"
   ]
  },
  {
   "cell_type": "code",
   "execution_count": 11,
   "id": "a3ed17b6",
   "metadata": {},
   "outputs": [
    {
     "name": "stdout",
     "output_type": "stream",
     "text": [
      "enter an word: aditya \n"
     ]
    },
    {
     "data": {
      "text/plain": [
       "['a', 'd', 'i', 't', 'y', 'a']"
      ]
     },
     "execution_count": 11,
     "metadata": {},
     "output_type": "execute_result"
    }
   ],
   "source": [
    "x = input('enter an word: ')\n",
    "\n",
    "y = [var for var in x if var.islower()]\n",
    "y"
   ]
  },
  {
   "cell_type": "markdown",
   "id": "5d600a2c",
   "metadata": {},
   "source": [
    "# zip  method"
   ]
  },
  {
   "cell_type": "code",
   "execution_count": 12,
   "id": "1429f329",
   "metadata": {},
   "outputs": [
    {
     "data": {
      "text/plain": [
       "[(23, 11), (45, 22), (56, 33)]"
      ]
     },
     "execution_count": 12,
     "metadata": {},
     "output_type": "execute_result"
    }
   ],
   "source": [
    "list(zip([23,45,56,78], [11, 22, 33]))"
   ]
  },
  {
   "cell_type": "code",
   "execution_count": 13,
   "id": "e8c91c47",
   "metadata": {},
   "outputs": [
    {
     "name": "stdout",
     "output_type": "stream",
     "text": [
      "(1, 11)\n",
      "(2, 22)\n",
      "(3, 33)\n"
     ]
    }
   ],
   "source": [
    "for ele in zip([1, 2, 3, 4], [11, 22, 33]):\n",
    "    print(ele)"
   ]
  },
  {
   "cell_type": "markdown",
   "id": "23e1d740",
   "metadata": {},
   "source": [
    "# enumerate"
   ]
  },
  {
   "cell_type": "markdown",
   "id": "4ae140cf",
   "metadata": {},
   "source": [
    "The enumerate() function takes a collection (e.g. a tuple) and returns it as an enumerate object.\n",
    "The enumerate() function adds a counter as the key of the enumerate object.\n",
    "syntax:enumerate(iterable, start)\n",
    "iterable -->An iterable object\n",
    "start--->A Number. Defining the start number of the enumerate object. Default 0"
   ]
  },
  {
   "cell_type": "code",
   "execution_count": 14,
   "id": "eba92815",
   "metadata": {},
   "outputs": [
    {
     "name": "stdout",
     "output_type": "stream",
     "text": [
      "0  \n",
      "1 s\n",
      "2 r\n",
      "3 i\n",
      "4  \n",
      "5 a\n",
      "6 d\n",
      "7 i\n",
      "8 t\n",
      "9 y\n",
      "10 a\n",
      "11  \n",
      "12 l\n"
     ]
    }
   ],
   "source": [
    "x=' sri aditya l'\n",
    "\n",
    "for ind,val in enumerate(x):\n",
    "    print(ind,val)"
   ]
  },
  {
   "cell_type": "code",
   "execution_count": null,
   "id": "049ada3b",
   "metadata": {},
   "outputs": [],
   "source": []
  }
 ],
 "metadata": {
  "kernelspec": {
   "display_name": "Python 3 (ipykernel)",
   "language": "python",
   "name": "python3"
  },
  "language_info": {
   "codemirror_mode": {
    "name": "ipython",
    "version": 3
   },
   "file_extension": ".py",
   "mimetype": "text/x-python",
   "name": "python",
   "nbconvert_exporter": "python",
   "pygments_lexer": "ipython3",
   "version": "3.11.5"
  }
 },
 "nbformat": 4,
 "nbformat_minor": 5
}
